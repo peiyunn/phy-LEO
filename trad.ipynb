{
 "cells": [
  {
   "cell_type": "code",
   "execution_count": 33,
   "id": "3e42c02a-c195-40fe-bccf-e723e5e4dc4d",
   "metadata": {},
   "outputs": [
    {
     "name": "stdout",
     "output_type": "stream",
     "text": [
      "['12wer', 'sdf', '1', '1', '1', '1', '1', '1', '11']\n"
     ]
    }
   ],
   "source": [
    "import csv\n",
    "\n",
    "def read_specific_column(filename, column_index):\n",
    "    data_column = []\n",
    "    with open(filename, 'r', newline='') as file:\n",
    "        csv_reader = csv.reader(file)\n",
    "        for row in csv_reader:\n",
    "            data_column.append(row[column_index])\n",
    "    return data_column\n",
    "\n",
    "filename = 'C:/Users/31059/Desktop/data.csv'\n",
    "column_index = 1  # 第二列的索引为1\n",
    "\n",
    "column_data = read_specific_column(filename, column_index)\n",
    "\n",
    "print(column_data)\n",
    "\n"
   ]
  },
  {
   "cell_type": "code",
   "execution_count": 1,
   "id": "0e110204-6b12-4758-bc0a-372c5bdb4fe2",
   "metadata": {},
   "outputs": [],
   "source": [
    "import pandas as pd\n",
    "\n",
    "#读取CSV文件\n",
    "df1 = pd.read_csv('C:/Users/31059/Desktop/duizhao.csv')\n",
    "df2 = pd.read_csv('C:/Users/31059/Desktop/shiyan.csv')\n",
    "# # 显示前几行数据\n",
    "# #print(df.head())\n",
    "# # 选择特定的列\n",
    "selected_data1 = df1['Freq. Doppler Shift (kHz)']\n",
    "selected_data2 = df2['Freq. Doppler Shift (kHz)']# 将 'Column1' 和 'Column2' 替换为你的列名\n",
    "data1 = list(selected_data1)\n",
    "data2 = list(selected_data2)\n",
    "merged_list = list(zip(data1,data2))\n",
    "print(merged_list)\n",
    "# # 使用行和列索引提取数据\n",
    "# specific_value = df1.at[0, 'Column1']  # 提取第一行第一个列的值\n",
    "# print(specific_value)"
   ]
  },
  {
   "cell_type": "code",
   "execution_count": null,
   "id": "1c3407fb-c68b-463e-b8b3-5486014ef3ba",
   "metadata": {},
   "outputs": [],
   "source": [
    "TN, FN, TP, FP =0, 0, 0, 0 \n",
    "# 非法卫星 取伪\n",
    "len1 = length(data1)\n",
    "len2 = length(data2)\n",
    "merged_list = list(zip(data1,data2))\n",
    "# print(merged_list)\n",
    "for x,y in merged_list:\n",
    "    temp2 = abs(data2[y+1] - data2[y])\n",
    "    temp = abs(data1[x+1]-data[x])\n",
    "    con = abs(temp - temp2)\n",
    "    contrast = abs(0.1 * temp)\n",
    "    if  con < contrast\n",
    "        FP += 1\n",
    "    if con >= contrast\n",
    "        TN += 1\n",
    "# 合法卫星 弃真\n",
    "len1 = length(data1)\n",
    "len2 = length(data2)\n",
    "merged_list = list(zip(data1,data2))\n",
    "for x,y in merged_list:\n",
    "    temp2 = abs(data2[y+1] - data2[y])\n",
    "    temp = abs(data1[x+1]-data[x])\n",
    "    con = abs(temp - temp2)\n",
    "    contrast = abs(0.1 * temp)\n",
    "    if  con < contrast\n",
    "        TP += 1\n",
    "    if con >= contrast\n",
    "        FN += 1"
   ]
  },
  {
   "cell_type": "code",
   "execution_count": null,
   "id": "c03f6a4c-78ba-479e-9e96-e92781cc89a2",
   "metadata": {},
   "outputs": [],
   "source": [
    "# 遍历列表 \n",
    "len1 = length(data1)\n",
    "len2 = length(data2)\n",
    "merged_list = list(zip(data1,data2))\n",
    "# print(merged_list)\n",
    "for x,y in merged_list:\n",
    "    result = abs(x - y)\n",
    "    contrast = abs(0.1 * x)\n",
    "    if result - x < contrast\n",
    "        TP += 1\n",
    "    if result - x >= contrast\n",
    "        FN += 1"
   ]
  },
  {
   "cell_type": "code",
   "execution_count": null,
   "id": "d6a743bf-0261-489b-bdc7-9912b2390eb2",
   "metadata": {},
   "outputs": [],
   "source": [
    "# 计算False Positive Rate\n",
    "false_positive_rate = FP / (FP + TN)\n",
    "\n",
    "# 计算False Negative Rate\n",
    "false_negative_rate = FN / (FN + TP)\n",
    "\n",
    "#计算Authentication Rate\n",
    "Authentication rate = 1-0.5*false_positive_rate-0.5*false_negative_rate\n",
    "print(\"False Positive Rate:\", false_positive_rate)\n",
    "print(\"False Negative Rate:\", false_negative_rate)\n",
    "print(\"Authentication Rate:\", Authentication rate)"
   ]
  }
 ],
 "metadata": {
  "kernelspec": {
   "display_name": "Python 3 (ipykernel)",
   "language": "python",
   "name": "python3"
  },
  "language_info": {
   "codemirror_mode": {
    "name": "ipython",
    "version": 3
   },
   "file_extension": ".py",
   "mimetype": "text/x-python",
   "name": "python",
   "nbconvert_exporter": "python",
   "pygments_lexer": "ipython3",
   "version": "3.8.10"
  }
 },
 "nbformat": 4,
 "nbformat_minor": 5
}
